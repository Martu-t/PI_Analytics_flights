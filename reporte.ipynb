{
 "cells": [
  {
   "cell_type": "markdown",
   "metadata": {},
   "source": [
    "## Reporte de calidad del dato\n",
    "### dataset = AccidentesAvsiones.csv"
   ]
  },
  {
   "cell_type": "markdown",
   "metadata": {},
   "source": [
    "En este reporte se intentará mostrar las características del dataset provisto. Se hace un análisis de cómo se componen y si sus datos pueden transformarse en información de valor. "
   ]
  },
  {
   "cell_type": "markdown",
   "metadata": {},
   "source": [
    "1. Diccionario de columnas en las tablas"
   ]
  },
  {
   "cell_type": "markdown",
   "metadata": {},
   "source": [
    "Unnamed: 0 = Index del dataset\n",
    "fecha = Fecha del accidente\n",
    "HORA declarada = Hora del accidente\n",
    "Ruta = Lugar (exacto o apróximado) del accidente. \n",
    "OperadOR =  Aerolínea u operador de la aeronave\n",
    "flight_no = Número de vuelo asociado al operador de la aerolínea\n",
    "route = Ruta parcial o completa prevista\n",
    "ac_type = Tipo de aeronave\n",
    "cn_ln = número de serie (construcción)/Linea de fuselaje\n",
    "all_aboard = todas las personas abordo de la aeronave\n",
    "PASAJEROS A BORDO = Pasajeros a bordo de la aeronave\n",
    "crew_aboard = Tripulación a bordo\n",
    "cantidad de fallecidos = Cantidad total de fallecidos \n",
    "passenger_fatalities = pasajeros fallecidos\n",
    "crew_fatalities = miembros de tripulación fallecidos\n",
    "ground = fallecimientos extra causados por el impacto de la aeronave \n",
    "summary = detalles del accidente"
   ]
  },
  {
   "cell_type": "markdown",
   "metadata": {},
   "source": [
    "2.Cantidad de datos nulos"
   ]
  },
  {
   "cell_type": "markdown",
   "metadata": {},
   "source": [
    "flight_no                 73.522364%\n",
    "HORA declarada            30.031949%\n",
    "route                     15.215655%\n",
    "cn_ln                     13.318690%\n",
    "registration               5.431310%\n",
    "crew_fatalities            4.692492%\n",
    "passenger_fatalities       4.692492%\n",
    "PASAJEROS A BORDO          4.412939%\n",
    "crew_aboard                4.373003%\n",
    "summary                    1.178115%\n",
    "ground                     0.878594%\n",
    "all_aboard                 0.339457%\n",
    "ac_type                    0.259585%\n",
    "OperadOR                   0.199681%\n",
    "cantidad de fallecidos     0.159744%\n",
    "Ruta                       0.099840%\n",
    "fecha                      0.000000%"
   ]
  },
  {
   "cell_type": "markdown",
   "metadata": {},
   "source": [
    "La falta de datos en la columna de flight_no la hace inutilizable dentro del dataset. "
   ]
  },
  {
   "cell_type": "markdown",
   "metadata": {},
   "source": [
    "3. Outliers"
   ]
  },
  {
   "cell_type": "markdown",
   "metadata": {},
   "source": [
    "No se han detectado outliers significativos en las variables númericas"
   ]
  },
  {
   "cell_type": "markdown",
   "metadata": {},
   "source": [
    "4. Errores de carga - Falta de normalización"
   ]
  },
  {
   "cell_type": "markdown",
   "metadata": {},
   "source": [
    "Se encuentran problemas en las columnas particularmente de:\n",
    "    - HORA declarada = Hora del accidente"
   ]
  },
  {
   "cell_type": "markdown",
   "metadata": {},
   "source": [
    "La columna hora tiene dos problemas principales. El primero es la falta de dato y la dificultad de obtener el dato correcto. \n",
    "La segunda problemática que tiene es inconsistencia en su formato ya que algunos tiene formato militar 24:00 y otros formato tradicional 12:00.\n",
    "Además algunas filas tienen errores como letras ademaás de números"
   ]
  }
 ],
 "metadata": {
  "interpreter": {
   "hash": "aee8b7b246df8f9039afb4144a1f6fd8d2ca17a180786b69acc140d282b71a49"
  },
  "kernelspec": {
   "display_name": "Python 3.9.13 64-bit",
   "language": "python",
   "name": "python3"
  },
  "language_info": {
   "codemirror_mode": {
    "name": "ipython",
    "version": 3
   },
   "file_extension": ".py",
   "mimetype": "text/x-python",
   "name": "python",
   "nbconvert_exporter": "python",
   "pygments_lexer": "ipython3",
   "version": "3.9.13"
  },
  "orig_nbformat": 4
 },
 "nbformat": 4,
 "nbformat_minor": 2
}
