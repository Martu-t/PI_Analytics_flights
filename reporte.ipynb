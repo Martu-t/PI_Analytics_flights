{
 "cells": [
  {
   "cell_type": "markdown",
   "metadata": {},
   "source": [
    "## Reporte de calidad del dato\n",
    "### dataset = AccidentesAvsiones.csv"
   ]
  },
  {
   "cell_type": "markdown",
   "metadata": {},
   "source": [
    "En este reporte se intentará mostrar las características del dataset provisto. Se hace un análisis de cómo se componen y si sus datos pueden transformarse en información de valor. El EDA completo puede encontrarse en el archivo main.ipynb"
   ]
  },
  {
   "cell_type": "markdown",
   "metadata": {},
   "source": [
    "1. Diccionario de columnas en las tablas"
   ]
  },
  {
   "cell_type": "markdown",
   "metadata": {},
   "source": [
    "Unnamed: 0 = Index del dataset\n",
    "fecha = Fecha del accidente\n",
    "HORA declarada = Hora del accidente\n",
    "Ruta = Lugar (exacto o apróximado) del accidente. \n",
    "OperadOR =  Aerolínea u operador de la aeronave\n",
    "flight_no = Número de vuelo asociado al operador de la aerolínea\n",
    "route = Ruta parcial o completa prevista\n",
    "ac_type = Tipo de aeronave\n",
    "cn_ln = número de serie (construcción)/Linea de fuselaje\n",
    "all_aboard = todas las personas abordo de la aeronave\n",
    "PASAJEROS A BORDO = Pasajeros a bordo de la aeronave\n",
    "crew_aboard = Tripulación a bordo\n",
    "cantidad de fallecidos = Cantidad total de fallecidos \n",
    "passenger_fatalities = pasajeros fallecidos\n",
    "crew_fatalities = miembros de tripulación fallecidos\n",
    "ground = fallecimientos extra causados por el impacto de la aeronave \n",
    "summary = detalles del accidente"
   ]
  },
  {
   "cell_type": "markdown",
   "metadata": {},
   "source": [
    "2. Cantidad de datos nulos"
   ]
  },
  {
   "cell_type": "markdown",
   "metadata": {},
   "source": [
    "flight_no                 73.522364%\n",
    "HORA declarada            30.031949%\n",
    "route                     15.215655%\n",
    "cn_ln                     13.318690%\n",
    "registration               5.431310%\n",
    "crew_fatalities            4.692492%\n",
    "passenger_fatalities       4.692492%\n",
    "PASAJEROS A BORDO          4.412939%\n",
    "crew_aboard                4.373003%\n",
    "summary                    1.178115%\n",
    "ground                     0.878594%\n",
    "all_aboard                 0.339457%\n",
    "ac_type                    0.259585%\n",
    "OperadOR                   0.199681%\n",
    "cantidad de fallecidos     0.159744%\n",
    "Ruta                       0.099840%\n",
    "fecha                      0.000000%"
   ]
  },
  {
   "cell_type": "markdown",
   "metadata": {},
   "source": [
    "La falta de datos en la columna de flight_no la hace inutilizable dentro del dataset. "
   ]
  },
  {
   "cell_type": "markdown",
   "metadata": {},
   "source": [
    "3. Outliers"
   ]
  },
  {
   "cell_type": "markdown",
   "metadata": {},
   "source": [
    "No se han detectado outliers significativos en las variables númericas"
   ]
  },
  {
   "cell_type": "markdown",
   "metadata": {},
   "source": [
    "4. Errores de carga - Falta de normalización"
   ]
  },
  {
   "cell_type": "markdown",
   "metadata": {},
   "source": [
    "Se encuentran problemas en las columnas particularmente de:\n",
    "    - HORA declarada = Hora del accidente\n",
    "    - OperadOR: hay algunos operadores que se repiten pero con leves variables en su nombre, por ej: 'A B Aerotransport' AB Aerotransport'"
   ]
  },
  {
   "cell_type": "markdown",
   "metadata": {},
   "source": [
    "La columna hora tiene dos problemas principales. El primero es la falta de dato y la dificultad de obtener el dato correcto. \n",
    "La segunda problemática que tiene es inconsistencia en su formato ya que algunos tiene formato militar 24:00 y otros formato tradicional 12:00.\n",
    "Además algunas filas tienen errores como letras ademaás de números"
   ]
  },
  {
   "cell_type": "markdown",
   "metadata": {},
   "source": [
    "5. Falta de estandarización del nombre de columnas"
   ]
  },
  {
   "cell_type": "markdown",
   "metadata": {},
   "source": [
    "Hay columnas con nombres en inglés y otras en español. Algunas tienen nombres contra intuituivos como \"route\" que en realidad representa el lugar del accidente."
   ]
  },
  {
   "cell_type": "markdown",
   "metadata": {},
   "source": [
    "6. Datos que necesitan complementos"
   ]
  },
  {
   "cell_type": "markdown",
   "metadata": {},
   "source": [
    "Hay datos que necesitan, además de una estandarización, contexto de otros datos para poder generar mejores relaciones y un buen análisis."
   ]
  },
  {
   "cell_type": "markdown",
   "metadata": {},
   "source": [
    "Algunos ejemplos son"
   ]
  },
  {
   "cell_type": "markdown",
   "metadata": {},
   "source": [
    "- route: El dato muchas veces presenta aclaraciones como \"near x point\" por lo que lo ideal sería intentar cruzarlo con puntos geogräficos. Esto se volvió un poco complejo por los diferentes tipos de representación que hay. Ya que algunas finalizan con el païs y otras con el estado, haciendo que la particiön y extración sea más complicada"
   ]
  },
  {
   "cell_type": "markdown",
   "metadata": {},
   "source": [
    "- cn_ln: El nümero de serie/fuselaje puede ser interesante si se puede cruzar con su fabricante ya que es un dato muy particular. Lamentablemente es algo que sí no viene dado, la extracción de su dato complementario es complicado de encontrar publicamente. "
   ]
  },
  {
   "cell_type": "markdown",
   "metadata": {},
   "source": [
    "- registration: es el número ICAO y sería bueno cruzarlo con otros datos del tipo de aviön en caso de querer hacer el enfoque por ese lado. \n",
    "Cabe mencionar que ICAO tiene una api que nos permite 100 llamadas a ella para extración de ciertos datos. Para esta investigación decidió tomar otro enfoque pero dejamos como referencia la siguiente página web, cómo una intro al tema:\n",
    "https://unitingaviation.com/news/safety/icaos-aircraft-type-designator-website/"
   ]
  },
  {
   "cell_type": "markdown",
   "metadata": {},
   "source": [
    "## Transformaciones"
   ]
  },
  {
   "cell_type": "markdown",
   "metadata": {},
   "source": [
    "Dada las carácteristicas mencionadas anteriormente, es necesario realizar ciertas tranformaciones al dataset para poder trabajar mejor sus datos. Todo el paso a paso se puede ver en main.ipnb"
   ]
  },
  {
   "cell_type": "markdown",
   "metadata": {},
   "source": [
    "1. Lo primero que hicimos fue tomar acción sobre valores nulos y columnas tal vez no aportan mucho al anásilis."
   ]
  },
  {
   "cell_type": "markdown",
   "metadata": {},
   "source": [
    "- Eliminamos la columnas 'Unnamed: 0' ya que sólo es el índice de la tabla\n",
    "- Eliminamos num de vuelo ya que muchos son sólo números y deberïan ser letras y números\n",
    "- Eliminamos las filas donde hay faltantes de fallecidos, ya qué el anälisis irá en torno a eso."
   ]
  },
  {
   "cell_type": "markdown",
   "metadata": {},
   "source": [
    "2. Normalizamos las fechas para que tengan un formato más simple para la base de datos y también normalizamos la hora"
   ]
  },
  {
   "cell_type": "markdown",
   "metadata": {},
   "source": [
    "3. Ponemos todos los nombres de las columnas en inglés para que tengan el mismo estandar"
   ]
  },
  {
   "cell_type": "markdown",
   "metadata": {},
   "source": [
    "4. Vemos cuáles son las columnas que más información aportan y algunas agrupaciones."
   ]
  },
  {
   "cell_type": "markdown",
   "metadata": {},
   "source": [
    "5. Eliminamos las columnas que no utilizamos. "
   ]
  }
 ],
 "metadata": {
  "interpreter": {
   "hash": "aee8b7b246df8f9039afb4144a1f6fd8d2ca17a180786b69acc140d282b71a49"
  },
  "kernelspec": {
   "display_name": "Python 3.9.13 64-bit",
   "language": "python",
   "name": "python3"
  },
  "language_info": {
   "codemirror_mode": {
    "name": "ipython",
    "version": 3
   },
   "file_extension": ".py",
   "mimetype": "text/x-python",
   "name": "python",
   "nbconvert_exporter": "python",
   "pygments_lexer": "ipython3",
   "version": "3.9.13"
  },
  "orig_nbformat": 4
 },
 "nbformat": 4,
 "nbformat_minor": 2
}
